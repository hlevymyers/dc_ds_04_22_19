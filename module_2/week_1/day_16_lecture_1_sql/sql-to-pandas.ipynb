{
 "cells": [
  {
   "cell_type": "markdown",
   "metadata": {
    "slideshow": {
     "slide_type": "slide"
    }
   },
   "source": [
    "![sql](img/sql-logo.jpg)\n",
    "\n",
    "# A beginner's guide to databases, SQL, & using them with `pandas`"
   ]
  },
  {
   "cell_type": "markdown",
   "metadata": {
    "slideshow": {
     "slide_type": "slide"
    }
   },
   "source": [
    "**Scenario:** You are a data analyst for the Homeland Security, trying to create reports on the active airports world wide. The data you need to access is in a SQL database. YOu need to be able to query for the data in a database!"
   ]
  },
  {
   "cell_type": "markdown",
   "metadata": {
    "slideshow": {
     "slide_type": "slide"
    }
   },
   "source": [
    "## Learning goals:\n",
    "- Goal 1: Summarize the use case for sql in the data science skill set\n",
    "- Goal 2: Define key sql terminology\n",
    "- Goal 3: Get information about DB schema and table structure\n",
    "- Goal 4: Use basic SQL commands:\n",
    "    - Construct SQL queries\n",
    "    - Use JOIN to merge tables along logical columns\n",
    "    - Grouping Data with SQL\n",
    "- Goal 5: Query data from pandas dataframes using SQL\n",
    "- Goal 6: Convert SQL to pandas"
   ]
  },
  {
   "cell_type": "markdown",
   "metadata": {
    "slideshow": {
     "slide_type": "slide"
    }
   },
   "source": [
    "## Goal 1: Summarize\n",
    "\n",
    "[Netflix has a great article](https://medium.com/netflix-techblog/notebook-innovation-591ee3221233) describing three different data roles at their company, their different needs, and their toolsets.\n",
    "\n",
    "![netflix](img/netflix-data-roles.jpeg)\n",
    "\n",
    "Examining that graphic, SQL shows up as one of the tools of the _Data Engineer_ "
   ]
  },
  {
   "cell_type": "markdown",
   "metadata": {
    "slideshow": {
     "slide_type": "slide"
    }
   },
   "source": [
    "Data Engineers provide the essential data architecture services that make data science possible.\n",
    "\n",
    "![hierarchy](img/ai-hierachy.png)\n",
    "\n",
    "[Source: Monica Rogati’s fantastic Medium post “The AI Hierarchy of Needs”\n",
    "](https://hackernoon.com/the-ai-hierarchy-of-needs-18f111fcc007)"
   ]
  },
  {
   "cell_type": "markdown",
   "metadata": {
    "slideshow": {
     "slide_type": "slide"
    }
   },
   "source": [
    "![etl](img/etl.png)\n",
    "\n",
    "[img source: Jeff Hammerbacher’s slide from UC Berkeley CS 194 course ](https://bcourses.berkeley.edu/courses/1377158/pages/cs-194-16-introduction-to-data-science-fall-2015)"
   ]
  },
  {
   "cell_type": "markdown",
   "metadata": {
    "slideshow": {
     "slide_type": "slide"
    }
   },
   "source": [
    "### What is a Relational Database? \n",
    "\n",
    "![rdb](img/relational-dbms-model.png)\n",
    "[reference for image ](https://www.studytonight.com/dbms/database-model.php)"
   ]
  },
  {
   "cell_type": "markdown",
   "metadata": {
    "slideshow": {
     "slide_type": "slide"
    }
   },
   "source": [
    "### POPULAR RDBMS\n",
    "\n",
    "- SQLite\n",
    "- MySQL\n",
    "- PostgreSql\n",
    "- Oracle DB\n",
    "- SQL Server"
   ]
  },
  {
   "cell_type": "markdown",
   "metadata": {
    "slideshow": {
     "slide_type": "slide"
    }
   },
   "source": [
    "***\n",
    "## Goal 2: Database terminology\n",
    "\n",
    "### Relational Database Schema\n",
    "\n",
    "![schema](img/MySQL_Schema_Music_Example.png)\n",
    "\n",
    "[source of image](https://database.guide/what-is-a-database-schema/)"
   ]
  },
  {
   "cell_type": "markdown",
   "metadata": {
    "slideshow": {
     "slide_type": "slide"
    }
   },
   "source": [
    "### Table columns view\n",
    "![table example](img/columns.png)"
   ]
  },
  {
   "cell_type": "markdown",
   "metadata": {
    "slideshow": {
     "slide_type": "slide"
    }
   },
   "source": [
    "### Terminology\n",
    "\n",
    "- Schema\n",
    "- Primary Key\n",
    "- Foreign Key\n",
    "- Structured queries\n",
    "- Views"
   ]
  },
  {
   "cell_type": "markdown",
   "metadata": {
    "slideshow": {
     "slide_type": "slide"
    }
   },
   "source": [
    "***\n",
    "### SQLite\n",
    "\n",
    "![sqlite](img/SQLite-Python.jpg)\n",
    "\n",
    "\"SQLite is a C library that provides a lightweight disk-based database that doesn’t require a separate server process and allows accessing the database using a nonstandard variant of the SQL query language. Some applications can use SQLite for internal data storage. It’s also possible to prototype an application using SQLite and then port the code to a larger database such as PostgreSQL or Oracle.\" - [sqlite documentation](https://docs.python.org/2/library/sqlite3.html)\n",
    "\n"
   ]
  },
  {
   "cell_type": "markdown",
   "metadata": {
    "slideshow": {
     "slide_type": "slide"
    }
   },
   "source": [
    "## But what about connecting to database servers?\n",
    "\n",
    "To connect to an Oracle database server there is a different package, `cx_Oracle`. The documentation for that package is [here](https://oracle.github.io/python-cx_Oracle/)"
   ]
  },
  {
   "cell_type": "markdown",
   "metadata": {
    "slideshow": {
     "slide_type": "slide"
    }
   },
   "source": [
    "***\n",
    "## Goal 3: Get going with sqlite!"
   ]
  },
  {
   "cell_type": "code",
   "execution_count": 1,
   "metadata": {
    "slideshow": {
     "slide_type": "fragment"
    }
   },
   "outputs": [],
   "source": [
    "import sqlite3"
   ]
  },
  {
   "cell_type": "markdown",
   "metadata": {
    "slideshow": {
     "slide_type": "slide"
    }
   },
   "source": [
    "#### Load a DB object with `connect` and `cursor`"
   ]
  },
  {
   "cell_type": "code",
   "execution_count": 2,
   "metadata": {
    "slideshow": {
     "slide_type": "fragment"
    }
   },
   "outputs": [],
   "source": [
    "con = sqlite3.connect('flights.db')\n",
    "cursor = con.cursor()"
   ]
  },
  {
   "cell_type": "markdown",
   "metadata": {
    "slideshow": {
     "slide_type": "slide"
    }
   },
   "source": [
    "#### Use sqlite_master to find all the tables in the schema\n",
    "Get the schema of a database from a db in sqlite"
   ]
  },
  {
   "cell_type": "code",
   "execution_count": 3,
   "metadata": {},
   "outputs": [
    {
     "name": "stdout",
     "output_type": "stream",
     "text": [
      "[('airports',), ('airlines',), ('routes',)]\n"
     ]
    }
   ],
   "source": [
    "cursor.execute(\"SELECT name FROM sqlite_master WHERE type='table';\")\n",
    "print(cursor.fetchall())"
   ]
  },
  {
   "cell_type": "markdown",
   "metadata": {
    "slideshow": {
     "slide_type": "slide"
    }
   },
   "source": [
    "#### Get information about one table\n",
    "\n",
    "**A note about** `execute`<br>\n",
    "Each time you use it, you reset the value of cursor"
   ]
  },
  {
   "cell_type": "code",
   "execution_count": 8,
   "metadata": {},
   "outputs": [
    {
     "data": {
      "text/plain": [
       "<sqlite3.Cursor at 0x10752bc00>"
      ]
     },
     "execution_count": 8,
     "metadata": {},
     "output_type": "execute_result"
    }
   ],
   "source": [
    "cursor.execute(\"SELECT * FROM airports\")"
   ]
  },
  {
   "cell_type": "markdown",
   "metadata": {
    "slideshow": {
     "slide_type": "slide"
    }
   },
   "source": [
    "#### Use description"
   ]
  },
  {
   "cell_type": "code",
   "execution_count": 9,
   "metadata": {
    "slideshow": {
     "slide_type": "fragment"
    }
   },
   "outputs": [
    {
     "data": {
      "text/plain": [
       "(('index', None, None, None, None, None, None),\n",
       " ('id', None, None, None, None, None, None),\n",
       " ('name', None, None, None, None, None, None),\n",
       " ('city', None, None, None, None, None, None),\n",
       " ('country', None, None, None, None, None, None),\n",
       " ('code', None, None, None, None, None, None),\n",
       " ('icao', None, None, None, None, None, None),\n",
       " ('latitude', None, None, None, None, None, None),\n",
       " ('longitude', None, None, None, None, None, None),\n",
       " ('altitude', None, None, None, None, None, None),\n",
       " ('offset', None, None, None, None, None, None),\n",
       " ('dst', None, None, None, None, None, None),\n",
       " ('timezone', None, None, None, None, None, None))"
      ]
     },
     "execution_count": 9,
     "metadata": {},
     "output_type": "execute_result"
    }
   ],
   "source": [
    "cursor.description"
   ]
  },
  {
   "cell_type": "markdown",
   "metadata": {
    "slideshow": {
     "slide_type": "slide"
    }
   },
   "source": [
    "#### Or use `Pragma`\n",
    "`Pragma` tool [link here](https://www.sqlite.org/pragma.html#pragma_table_info)\n",
    "\n",
    "**output**<br>\n",
    "`(column id, column name, data type, whether or not the column can be NULL, and the default value for the column)`"
   ]
  },
  {
   "cell_type": "code",
   "execution_count": 13,
   "metadata": {
    "slideshow": {
     "slide_type": "slide"
    }
   },
   "outputs": [
    {
     "name": "stdout",
     "output_type": "stream",
     "text": [
      "(0, 'index', 'INTEGER', 0, None, 0)\n",
      "(1, 'id', 'TEXT', 0, None, 0)\n",
      "(2, 'name', 'TEXT', 0, None, 0)\n",
      "(3, 'city', 'TEXT', 0, None, 0)\n",
      "(4, 'country', 'TEXT', 0, None, 0)\n",
      "(5, 'code', 'TEXT', 0, None, 0)\n",
      "(6, 'icao', 'TEXT', 0, None, 0)\n",
      "(7, 'latitude', 'TEXT', 0, None, 0)\n",
      "(8, 'longitude', 'TEXT', 0, None, 0)\n",
      "(9, 'altitude', 'TEXT', 0, None, 0)\n"
     ]
    }
   ],
   "source": [
    "cursor.execute(\"PRAGMA table_info(airports)\")\n",
    "info = cursor.fetchmany(10)\n",
    "print(*info, sep = \"\\n\") "
   ]
  },
  {
   "cell_type": "markdown",
   "metadata": {},
   "source": [
    "#### Making fetch happen\n",
    "\n",
    "`.fetchall()` is how you get the query results out of the object.\n",
    "\n",
    "You can also `.fetchone()` or `.fetchmany()`"
   ]
  },
  {
   "cell_type": "markdown",
   "metadata": {
    "slideshow": {
     "slide_type": "slide"
    }
   },
   "source": [
    "**Task:** Get the descriptive data for airlines and routes tables"
   ]
  },
  {
   "cell_type": "code",
   "execution_count": 15,
   "metadata": {},
   "outputs": [
    {
     "name": "stdout",
     "output_type": "stream",
     "text": [
      "(0, 'index', 'INTEGER', 0, None, 0)\n",
      "(1, 'id', 'TEXT', 0, None, 0)\n",
      "(2, 'name', 'TEXT', 0, None, 0)\n",
      "(3, 'alias', 'TEXT', 0, None, 0)\n",
      "(4, 'iata', 'TEXT', 0, None, 0)\n",
      "(5, 'icao', 'TEXT', 0, None, 0)\n",
      "(6, 'callsign', 'TEXT', 0, None, 0)\n",
      "(7, 'country', 'TEXT', 0, None, 0)\n",
      "(8, 'active', 'TEXT', 0, None, 0)\n"
     ]
    }
   ],
   "source": [
    "cursor.execute(\"PRAGMA table_info(airlines)\")\n",
    "info = cursor.fetchmany(10)\n",
    "print(*info, sep = \"\\n\") "
   ]
  },
  {
   "cell_type": "code",
   "execution_count": 14,
   "metadata": {
    "slideshow": {
     "slide_type": "skip"
    }
   },
   "outputs": [
    {
     "name": "stdout",
     "output_type": "stream",
     "text": [
      "(0, 'index', 'INTEGER', 0, None, 0)\n",
      "(1, 'airline', 'TEXT', 0, None, 0)\n",
      "(2, 'airline_id', 'TEXT', 0, None, 0)\n",
      "(3, 'source', 'TEXT', 0, None, 0)\n",
      "(4, 'source_id', 'TEXT', 0, None, 0)\n",
      "(5, 'dest', 'TEXT', 0, None, 0)\n",
      "(6, 'dest_id', 'TEXT', 0, None, 0)\n",
      "(7, 'codeshare', 'TEXT', 0, None, 0)\n",
      "(8, 'stops', 'TEXT', 0, None, 0)\n",
      "(9, 'equipment', 'TEXT', 0, None, 0)\n"
     ]
    }
   ],
   "source": [
    "cursor.execute(\"PRAGMA table_info(routes)\")\n",
    "info = cursor.fetchmany(10)\n",
    "print(*info, sep = \"\\n\") "
   ]
  },
  {
   "cell_type": "markdown",
   "metadata": {
    "slideshow": {
     "slide_type": "slide"
    }
   },
   "source": [
    "***\n",
    "## Goal 4: Use basic SQL commands \n",
    "- Construct SQL queries\n",
    "- Use JOIN to merge tables along logical columns\n",
    "- Grouping Data with SQL"
   ]
  },
  {
   "cell_type": "markdown",
   "metadata": {
    "slideshow": {
     "slide_type": "slide"
    }
   },
   "source": [
    "### Construct SQL queries"
   ]
  },
  {
   "cell_type": "markdown",
   "metadata": {
    "slideshow": {
     "slide_type": "fragment"
    }
   },
   "source": [
    "**Select**"
   ]
  },
  {
   "cell_type": "markdown",
   "metadata": {
    "slideshow": {
     "slide_type": "fragment"
    }
   },
   "source": [
    "**From**"
   ]
  },
  {
   "cell_type": "markdown",
   "metadata": {
    "slideshow": {
     "slide_type": "fragment"
    }
   },
   "source": [
    "**Where**"
   ]
  },
  {
   "cell_type": "markdown",
   "metadata": {
    "slideshow": {
     "slide_type": "fragment"
    }
   },
   "source": [
    "**Order by**"
   ]
  },
  {
   "cell_type": "markdown",
   "metadata": {
    "slideshow": {
     "slide_type": "fragment"
    }
   },
   "source": [
    "**Limit**"
   ]
  },
  {
   "cell_type": "markdown",
   "metadata": {
    "slideshow": {
     "slide_type": "slide"
    }
   },
   "source": [
    "#### Options for each:"
   ]
  },
  {
   "cell_type": "markdown",
   "metadata": {
    "slideshow": {
     "slide_type": "fragment"
    }
   },
   "source": [
    "**Select**:  `distinct`, using `as` to rename columns, single number aggregates"
   ]
  },
  {
   "cell_type": "markdown",
   "metadata": {
    "slideshow": {
     "slide_type": "fragment"
    }
   },
   "source": [
    "**From:** also uses aliasing with `as`"
   ]
  },
  {
   "cell_type": "markdown",
   "metadata": {
    "slideshow": {
     "slide_type": "fragment"
    }
   },
   "source": [
    "**Where**: equals is only one `=`, `between`, `in`, wildcards `%`, `AND`, `OR`, `NOT`"
   ]
  },
  {
   "cell_type": "markdown",
   "metadata": {
    "slideshow": {
     "slide_type": "fragment"
    }
   },
   "source": [
    "**Order by**: `asc` and `desc`"
   ]
  },
  {
   "cell_type": "markdown",
   "metadata": {
    "slideshow": {
     "slide_type": "fragment"
    }
   },
   "source": [
    "**Limit**:  #"
   ]
  },
  {
   "cell_type": "code",
   "execution_count": 27,
   "metadata": {},
   "outputs": [
    {
     "data": {
      "text/plain": [
       "[('Astraeus',),\n",
       " ('Air Southwest',),\n",
       " ('Aurigny Air Services',),\n",
       " ('Air Wales',),\n",
       " ('AD Aviation',),\n",
       " ('Air Foyle',),\n",
       " ('British Airways',),\n",
       " ('British International Helicopters',),\n",
       " ('bmi',),\n",
       " ('bmibaby',),\n",
       " ('British Midland Regional',),\n",
       " ('British Mediterranean Airways',),\n",
       " ('BA CityFlyer',),\n",
       " ('Crest Aviation',),\n",
       " ('Eastern Airways',),\n",
       " ('Excel Airways',),\n",
       " ('Excel Charter',),\n",
       " ('easyJet',),\n",
       " ('First Choice Airways',),\n",
       " ('Flightline',),\n",
       " ('Flybe',),\n",
       " ('Flyglobespan',),\n",
       " ('GB Airways',),\n",
       " ('Highland Airways',),\n",
       " ('Jet2.com',),\n",
       " ('Monarch Airlines',),\n",
       " ('MyTravel Airways',),\n",
       " ('Norfolk County Flight College',),\n",
       " ('Kinloss Flying Training Unit',),\n",
       " ('ScotAirways',),\n",
       " ('Thomas Cook Airlines',),\n",
       " ('Thomsonfly',),\n",
       " ('Virgin Atlantic Airways',),\n",
       " ('Jc royal.britannica',),\n",
       " ('Royal European Airlines',),\n",
       " ('CB Airways UK ( Interliging Flights )',),\n",
       " ('Air Cudlua',),\n",
       " ('BBN-Airways',),\n",
       " ('Rainbow Air Euro',),\n",
       " ('All Europe',)]"
      ]
     },
     "execution_count": 27,
     "metadata": {},
     "output_type": "execute_result"
    }
   ],
   "source": [
    "cursor = con.cursor()\n",
    "cursor.execute('''SELECT name FROM air WHERE (country = \"United Kingdom\" AND active = \"Y\");''').fetchall()\n"
   ]
  },
  {
   "cell_type": "code",
   "execution_count": 25,
   "metadata": {},
   "outputs": [
    {
     "data": {
      "text/plain": [
       "sqlite3.Cursor"
      ]
     },
     "execution_count": 25,
     "metadata": {},
     "output_type": "execute_result"
    }
   ],
   "source": [
    "type(cursor)"
   ]
  },
  {
   "cell_type": "code",
   "execution_count": 29,
   "metadata": {
    "slideshow": {
     "slide_type": "skip"
    }
   },
   "outputs": [
    {
     "data": {
      "text/plain": [
       "[('Papua New Guinea',),\n",
       " ('Greenland',),\n",
       " ('Iceland',),\n",
       " ('Canada',),\n",
       " ('Algeria',),\n",
       " ('Benin',),\n",
       " ('Burkina Faso',),\n",
       " ('Ghana',),\n",
       " (\"Cote d'Ivoire\",),\n",
       " ('Nigeria',),\n",
       " ('Niger',),\n",
       " ('Tunisia',),\n",
       " ('Togo',),\n",
       " ('Belgium',),\n",
       " ('Germany',),\n",
       " ('United States',),\n",
       " ('Estonia',),\n",
       " ('Finland',),\n",
       " ('United Kingdom',),\n",
       " ('Guernsey',),\n",
       " ('Jersey',),\n",
       " ('Isle of Man',),\n",
       " ('Falkland Islands',),\n",
       " ('Netherlands',),\n",
       " ('Ireland',),\n",
       " ('Denmark',),\n",
       " ('Faroe Islands',),\n",
       " ('Luxembourg',),\n",
       " ('Norway',),\n",
       " ('Poland',),\n",
       " ('Sweden',),\n",
       " ('South Africa',),\n",
       " ('Botswana',),\n",
       " ('Congo (Brazzaville)',),\n",
       " ('Congo (Kinshasa)',),\n",
       " ('Swaziland',),\n",
       " ('Central African Republic',),\n",
       " ('Equatorial Guinea',),\n",
       " ('Saint Helena',),\n",
       " ('Mauritius',),\n",
       " ('British Indian Ocean Territory',),\n",
       " ('Cameroon',),\n",
       " ('Zambia',),\n",
       " ('Comoros',),\n",
       " ('Mayotte',),\n",
       " ('Reunion',),\n",
       " ('Madagascar',),\n",
       " ('Angola',),\n",
       " ('Puerto Rico',),\n",
       " ('Gabon',),\n",
       " ('Sao Tome and Principe',),\n",
       " ('Mozambique',),\n",
       " ('Seychelles',),\n",
       " ('Chad',),\n",
       " ('Zimbabwe',),\n",
       " ('Malawi',),\n",
       " ('Lesotho',),\n",
       " ('Mali',),\n",
       " ('Gambia',),\n",
       " ('Spain',),\n",
       " ('Sierra Leone',),\n",
       " ('Guinea-Bissau',),\n",
       " ('Liberia',),\n",
       " ('Morocco',),\n",
       " ('Senegal',),\n",
       " ('Mauritania',),\n",
       " ('Guinea',),\n",
       " ('Cape Verde',),\n",
       " ('Ethiopia',),\n",
       " ('Maldives',),\n",
       " ('Burundi',),\n",
       " ('Somalia',),\n",
       " ('Egypt',),\n",
       " ('Kenya',),\n",
       " ('Libya',),\n",
       " ('Rwanda',),\n",
       " ('Sudan',),\n",
       " ('South Sudan',),\n",
       " ('Tanzania',),\n",
       " ('Uganda',),\n",
       " ('Albania',),\n",
       " ('Bulgaria',),\n",
       " ('Cyprus',),\n",
       " ('Croatia',),\n",
       " ('Greece',),\n",
       " ('France',),\n",
       " ('Saint Pierre and Miquelon',),\n",
       " ('Hungary',),\n",
       " ('Italy',),\n",
       " ('Slovenia',),\n",
       " ('Czech Republic',),\n",
       " ('Israel',),\n",
       " ('Malta',),\n",
       " ('Austria',),\n",
       " ('Portugal',),\n",
       " ('Bosnia and Herzegovina',),\n",
       " ('Romania',),\n",
       " ('Switzerland',),\n",
       " ('Turkey',),\n",
       " ('Moldova',),\n",
       " ('Macedonia',),\n",
       " ('Gibraltar',),\n",
       " ('Serbia',),\n",
       " ('Montenegro',),\n",
       " ('Slovakia',),\n",
       " ('Turks and Caicos Islands',),\n",
       " ('Dominican Republic',),\n",
       " ('Guatemala',),\n",
       " ('Honduras',),\n",
       " ('Jamaica',),\n",
       " ('Mexico',),\n",
       " ('Nicaragua',),\n",
       " ('Panama',),\n",
       " ('Costa Rica',),\n",
       " ('El Salvador',),\n",
       " ('Haiti',),\n",
       " ('Cuba',),\n",
       " ('Cayman Islands',),\n",
       " ('Bahamas',),\n",
       " ('Belize',),\n",
       " ('Cook Islands',),\n",
       " ('Fiji',),\n",
       " ('Tonga',),\n",
       " ('Kiribati',),\n",
       " ('Australia',),\n",
       " ('Wallis and Futuna',),\n",
       " ('Samoa',),\n",
       " ('American Samoa',),\n",
       " ('French Polynesia',),\n",
       " ('Vanuatu',),\n",
       " ('New Caledonia',),\n",
       " ('New Zealand',),\n",
       " ('Antarctica',),\n",
       " ('Afghanistan',),\n",
       " ('Bahrain',),\n",
       " ('Saudi Arabia',),\n",
       " ('Iran',),\n",
       " ('Argentina',),\n",
       " ('Jordan',),\n",
       " ('West Bank',),\n",
       " ('Kuwait',),\n",
       " ('Lebanon',),\n",
       " ('United Arab Emirates',),\n",
       " ('Oman',),\n",
       " ('Pakistan',),\n",
       " ('Iraq',),\n",
       " ('Syria',),\n",
       " ('Qatar',),\n",
       " ('Northern Mariana Islands',),\n",
       " ('Guam',),\n",
       " ('Marshall Islands',),\n",
       " ('Midway Islands',),\n",
       " ('Micronesia',),\n",
       " ('Palau',),\n",
       " ('Taiwan',),\n",
       " ('Japan',),\n",
       " ('South Korea',),\n",
       " ('Philippines',),\n",
       " ('Turkmenistan',),\n",
       " ('Brazil',),\n",
       " ('Chile',),\n",
       " ('Ecuador',),\n",
       " ('Paraguay',),\n",
       " ('Colombia',),\n",
       " ('Bolivia',),\n",
       " ('Suriname',),\n",
       " ('French Guiana',),\n",
       " ('Peru',),\n",
       " ('Uruguay',),\n",
       " ('Venezuela',),\n",
       " ('Guyana',),\n",
       " ('Antigua and Barbuda',),\n",
       " ('Barbados',),\n",
       " ('Dominica',),\n",
       " ('Martinique',),\n",
       " ('Guadeloupe',),\n",
       " ('Grenada',),\n",
       " ('Virgin Islands',),\n",
       " ('Saint Kitts and Nevis',),\n",
       " ('Saint Lucia',),\n",
       " ('Aruba',),\n",
       " ('Netherlands Antilles',),\n",
       " ('Anguilla',),\n",
       " ('Trinidad and Tobago',),\n",
       " ('British Virgin Islands',),\n",
       " ('Saint Vincent and the Grenadines',),\n",
       " ('Kazakhstan',),\n",
       " ('Kyrgyzstan',),\n",
       " ('Azerbaijan',),\n",
       " ('Russia',),\n",
       " ('Ukraine',),\n",
       " ('Belarus',),\n",
       " ('Tajikistan',),\n",
       " ('Uzbekistan',),\n",
       " ('India',),\n",
       " ('Sri Lanka',),\n",
       " ('Cambodia',),\n",
       " ('Bangladesh',),\n",
       " ('Hong Kong',),\n",
       " ('Laos',),\n",
       " ('Macau',),\n",
       " ('Nepal',),\n",
       " ('Bhutan',),\n",
       " ('Thailand',),\n",
       " ('Indonesia',),\n",
       " ('Vietnam',),\n",
       " ('Burma',),\n",
       " ('Malaysia',),\n",
       " ('Brunei',),\n",
       " ('East Timor',),\n",
       " ('Singapore',),\n",
       " ('Christmas Island',),\n",
       " ('Norfolk Island',),\n",
       " ('China',),\n",
       " ('Korea',),\n",
       " ('Mongolia',),\n",
       " ('Latvia',),\n",
       " ('Lithuania',),\n",
       " ('Armenia',),\n",
       " ('Eritrea',),\n",
       " ('Palestine',),\n",
       " ('Yemen',),\n",
       " ('Georgia',),\n",
       " ('Bermuda',),\n",
       " ('Solomon Islands',),\n",
       " ('Nauru',),\n",
       " ('Tuvalu',),\n",
       " ('Namibia',),\n",
       " ('Djibouti',),\n",
       " ('Montserrat',),\n",
       " ('Monaco',),\n",
       " ('Johnston Atoll',),\n",
       " ('Niue',),\n",
       " ('Western Sahara',),\n",
       " ('Cocos (Keeling) Islands',),\n",
       " ('South Georgia and the Islands',),\n",
       " ('Myanmar',),\n",
       " ('Svalbard',),\n",
       " ('North Korea',),\n",
       " ('Wake Island',)]"
      ]
     },
     "execution_count": 29,
     "metadata": {},
     "output_type": "execute_result"
    }
   ],
   "source": [
    "cursor = con.cursor()\n",
    "cursor.execute('''SELECT DISTINCT country FROM airports;''').fetchall()"
   ]
  },
  {
   "cell_type": "markdown",
   "metadata": {
    "slideshow": {
     "slide_type": "slide"
    }
   },
   "source": [
    "**Task**: \n",
    "- Select only active airlines in the UK from the airlines table\n",
    "- Select the unique list of countries with airports"
   ]
  },
  {
   "cell_type": "markdown",
   "metadata": {
    "slideshow": {
     "slide_type": "slide"
    }
   },
   "source": [
    "### SQL Joins"
   ]
  },
  {
   "cell_type": "markdown",
   "metadata": {
    "slideshow": {
     "slide_type": "fragment"
    }
   },
   "source": [
    "SQL joins can be used to both **add** data to a table and **remove** data from a table. "
   ]
  },
  {
   "cell_type": "markdown",
   "metadata": {
    "slideshow": {
     "slide_type": "fragment"
    }
   },
   "source": [
    "![venn](img/venn.png)"
   ]
  },
  {
   "cell_type": "markdown",
   "metadata": {
    "slideshow": {
     "slide_type": "slide"
    }
   },
   "source": [
    "**Task** Write a query that will join the latitude and longitude data from the airports table to the information on the routes table"
   ]
  },
  {
   "cell_type": "code",
   "execution_count": 30,
   "metadata": {
    "slideshow": {
     "slide_type": "skip"
    }
   },
   "outputs": [
    {
     "ename": "OperationalError",
     "evalue": "RIGHT and FULL OUTER JOINs are not currently supported",
     "output_type": "error",
     "traceback": [
      "\u001b[0;31m---------------------------------------------------------------------------\u001b[0m",
      "\u001b[0;31mOperationalError\u001b[0m                          Traceback (most recent call last)",
      "\u001b[0;32m<ipython-input-30-6f802d494741>\u001b[0m in \u001b[0;36m<module>\u001b[0;34m\u001b[0m\n\u001b[1;32m      1\u001b[0m \u001b[0mcursor\u001b[0m \u001b[0;34m=\u001b[0m \u001b[0mcon\u001b[0m\u001b[0;34m.\u001b[0m\u001b[0mcursor\u001b[0m\u001b[0;34m(\u001b[0m\u001b[0;34m)\u001b[0m\u001b[0;34m\u001b[0m\u001b[0;34m\u001b[0m\u001b[0m\n\u001b[0;32m----> 2\u001b[0;31m \u001b[0mcursor\u001b[0m\u001b[0;34m.\u001b[0m\u001b[0mexecute\u001b[0m\u001b[0;34m(\u001b[0m\u001b[0;34m'''SELECT latitude, longitude FROM airports RIGHT JOIN routes ON id = source_id;'''\u001b[0m\u001b[0;34m)\u001b[0m\u001b[0;34m.\u001b[0m\u001b[0mfetchall\u001b[0m\u001b[0;34m(\u001b[0m\u001b[0;34m)\u001b[0m\u001b[0;34m\u001b[0m\u001b[0;34m\u001b[0m\u001b[0m\n\u001b[0m\u001b[1;32m      3\u001b[0m \u001b[0;34m\u001b[0m\u001b[0m\n",
      "\u001b[0;31mOperationalError\u001b[0m: RIGHT and FULL OUTER JOINs are not currently supported"
     ]
    }
   ],
   "source": [
    "cursor = con.cursor()\n",
    "sql_str = \"\"\"\n",
    "\n",
    "SELECT r.* a.latitude as source_lat, a.longitude\n",
    "\n",
    "\"\"\"\n",
    "\n",
    "\n",
    "cursor.execute('''SELECT airports.latitude, airports.longitude FROM airports JOIN routes ON id = source_id;''').fetchall()\n",
    "\n",
    "\n"
   ]
  },
  {
   "cell_type": "markdown",
   "metadata": {
    "slideshow": {
     "slide_type": "slide"
    }
   },
   "source": [
    "### Grouping statements\n",
    "\n",
    "Combines `select` and `group by` when you want aggregates by values"
   ]
  },
  {
   "cell_type": "markdown",
   "metadata": {
    "slideshow": {
     "slide_type": "fragment"
    }
   },
   "source": [
    "`select` `min(x)` ... `max()`, `sum()`, etc"
   ]
  },
  {
   "cell_type": "markdown",
   "metadata": {
    "slideshow": {
     "slide_type": "fragment"
    }
   },
   "source": [
    "`group by x`"
   ]
  },
  {
   "cell_type": "markdown",
   "metadata": {
    "slideshow": {
     "slide_type": "slide"
    }
   },
   "source": [
    "**Task**<br>\n",
    "- Which countries have the highest amount of active airports?\n",
    "- Which countries have the highest amount of inactive airports?\n",
    "- What about airports by timezones?"
   ]
  },
  {
   "cell_type": "code",
   "execution_count": null,
   "metadata": {
    "slideshow": {
     "slide_type": "skip"
    }
   },
   "outputs": [],
   "source": []
  },
  {
   "cell_type": "markdown",
   "metadata": {
    "slideshow": {
     "slide_type": "slide"
    }
   },
   "source": [
    "## Goal 5: Using sql within pandas to filter\n",
    "\n",
    "`.query()`\n",
    "\n",
    "[query documentation](https://pandas.pydata.org/pandas-docs/stable/reference/api/pandas.DataFrame.query.html)"
   ]
  },
  {
   "cell_type": "code",
   "execution_count": null,
   "metadata": {
    "slideshow": {
     "slide_type": "slide"
    }
   },
   "outputs": [],
   "source": [
    "# Get data for an example\n",
    "import pandas as pd\n",
    "shelter_data=pd.read_csv('https://data.austintexas.gov/api/views/9t4d-g238/rows.csv?accessType=DOWNLOAD')\n",
    "shelter_data.dtypes"
   ]
  },
  {
   "cell_type": "code",
   "execution_count": null,
   "metadata": {
    "slideshow": {
     "slide_type": "slide"
    }
   },
   "outputs": [],
   "source": [
    "max_data = shelter_data.query('Name == \"Max\"')\n",
    "max_data.head()"
   ]
  },
  {
   "cell_type": "code",
   "execution_count": null,
   "metadata": {
    "slideshow": {
     "slide_type": "slide"
    }
   },
   "outputs": [],
   "source": [
    "shelter_data.rename(index=str, columns={\"Animal Type\": \"animal_type\"}, inplace = True)\n",
    "test = shelter_data.query('animal_type == \"Dog\"')\n",
    "test.head()"
   ]
  },
  {
   "cell_type": "markdown",
   "metadata": {
    "slideshow": {
     "slide_type": "slide"
    }
   },
   "source": [
    "## Goal 6: Transfering from sqlite to pandas"
   ]
  },
  {
   "cell_type": "code",
   "execution_count": null,
   "metadata": {
    "slideshow": {
     "slide_type": "fragment"
    }
   },
   "outputs": [],
   "source": [
    "conn = sqlite3.connect(\"flights.db\")\n",
    "df = pd.read_sql_query(\"select * from airports limit 5;\", conn)\n",
    "df"
   ]
  },
  {
   "cell_type": "markdown",
   "metadata": {
    "slideshow": {
     "slide_type": "slide"
    }
   },
   "source": [
    "**Task**: \n",
    "Convert one of the earlier queries in the lesson to a pandas data frame"
   ]
  },
  {
   "cell_type": "markdown",
   "metadata": {
    "slideshow": {
     "slide_type": "slide"
    }
   },
   "source": [
    "## Integration\n",
    "\n",
    "The [Chinook database](https://github.com/lerocha/chinook-database) is a sample database, representing a digital media store.\n",
    "\n",
    "You need to create a query that can rank tracks in term of popularity.\n",
    "\n",
    "The name of the database is `Chinook_Sqlite.sqlite`"
   ]
  },
  {
   "cell_type": "markdown",
   "metadata": {
    "slideshow": {
     "slide_type": "slide"
    }
   },
   "source": [
    "Database information:<br>\n",
    "- How many tables are in the database?\n",
    "- What's the primary key of each table?\n",
    "- What foreign keys join the tables together?\n",
    "- If you had to draw a schema of how the tables are connected, what would it look like?"
   ]
  },
  {
   "cell_type": "markdown",
   "metadata": {
    "slideshow": {
     "slide_type": "slide"
    }
   },
   "source": [
    "To answer the question:<br>\n",
    "- What are the max and min dates in the Invoice table?\n",
    "- What tables would you need to answer \"what is your most popular track?\"\n",
    "- What values from each table?"
   ]
  },
  {
   "cell_type": "code",
   "execution_count": null,
   "metadata": {
    "slideshow": {
     "slide_type": "skip"
    }
   },
   "outputs": [],
   "source": []
  },
  {
   "cell_type": "code",
   "execution_count": null,
   "metadata": {
    "slideshow": {
     "slide_type": "skip"
    }
   },
   "outputs": [],
   "source": []
  },
  {
   "cell_type": "markdown",
   "metadata": {
    "slideshow": {
     "slide_type": "slide"
    }
   },
   "source": [
    "## Reflection"
   ]
  }
 ],
 "metadata": {
  "kernelspec": {
   "display_name": "Python 3",
   "language": "python",
   "name": "python3"
  },
  "language_info": {
   "codemirror_mode": {
    "name": "ipython",
    "version": 3
   },
   "file_extension": ".py",
   "mimetype": "text/x-python",
   "name": "python",
   "nbconvert_exporter": "python",
   "pygments_lexer": "ipython3",
   "version": "3.7.3"
  }
 },
 "nbformat": 4,
 "nbformat_minor": 2
}
