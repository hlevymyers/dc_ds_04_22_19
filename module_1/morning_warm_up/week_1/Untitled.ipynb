{
 "cells": [
  {
   "cell_type": "markdown",
   "metadata": {},
   "source": [
    "### 1. Create a dictionary where each object contains a list of one float (Age) and one string (Family name) (at least 5 objects)\n",
    "\n",
    "Example:\n",
    "`{Charles: [23.4, \"Darwin\"], Alan: [42.5, \"Turing\"]}`\n",
    "\n",
    "\n",
    "### 2. Delete one object from the dictionary\n",
    "\n",
    "\n",
    "### 3. Replace the float number of one of your objects - we are changing a list entry inside a dictionary record! look at Darwin's new age\n",
    "\n",
    "Example:\n",
    "`{Charles: [99.73, \"Darwin\"], Alan: [42.5, \"Turing\"]}`\n",
    "\n",
    "\n",
    "### 4. write a for loop that goes through all records in the dictionary, prints the family name and assigns the float numbers into one merged list (see ages)\n",
    "\n",
    "`ages = [23.4, 22.9, 552.9]`\n",
    "\n",
    "### 5. Download your notebbok as a .py (regular python script) save it somewhere you know\n",
    "\n",
    "### 6. Go to terminal, navigate to the folder where you have saved the script and execute it through the terminal\n",
    "\n",
    "`use commandds: \n",
    "cd and \n",
    "python your_script.py`\n",
    "\n",
    "\n",
    "### [optional] Calculate with a for loop the median and mean of the ages list\n",
    "\n",
    "\n"
   ]
  },
  {
   "cell_type": "code",
   "execution_count": 2,
   "metadata": {},
   "outputs": [
    {
     "ename": "NameError",
     "evalue": "name 'Tom' is not defined",
     "output_type": "error",
     "traceback": [
      "\u001b[0;31m---------------------------------------------------------------------------\u001b[0m",
      "\u001b[0;31mNameError\u001b[0m                                 Traceback (most recent call last)",
      "\u001b[0;32m<ipython-input-2-20293b7c6ffc>\u001b[0m in \u001b[0;36m<module>\u001b[0;34m()\u001b[0m\n\u001b[1;32m      1\u001b[0m \u001b[0;31m#1. Create a dictionary where each object contains a list of one float (Age) and one string (Family name) (at least 5 objects)\u001b[0m\u001b[0;34m\u001b[0m\u001b[0;34m\u001b[0m\u001b[0m\n\u001b[1;32m      2\u001b[0m \u001b[0;31m#Example: {Charles: [23.4, \"Darwin\"], Alan: [42.5, \"Turing\"]}\u001b[0m\u001b[0;34m\u001b[0m\u001b[0;34m\u001b[0m\u001b[0m\n\u001b[0;32m----> 3\u001b[0;31m \u001b[0mfriends\u001b[0m \u001b[0;34m=\u001b[0m \u001b[0;34m{\u001b[0m\u001b[0mTom\u001b[0m\u001b[0;34m:\u001b[0m \u001b[0;34m[\u001b[0m\u001b[0;36m78\u001b[0m\u001b[0;34m,\u001b[0m \u001b[0;34m'Jones'\u001b[0m\u001b[0;34m]\u001b[0m\u001b[0;34m,\u001b[0m \u001b[0mDick\u001b[0m\u001b[0;34m:\u001b[0m \u001b[0;34m[\u001b[0m\u001b[0;36m79\u001b[0m\u001b[0;34m,\u001b[0m \u001b[0;34m'Smith'\u001b[0m\u001b[0;34m]\u001b[0m\u001b[0;34m,\u001b[0m \u001b[0mHarry\u001b[0m\u001b[0;34m:\u001b[0m \u001b[0;34m[\u001b[0m\u001b[0;36m80\u001b[0m\u001b[0;34m,\u001b[0m \u001b[0;34m'Taylor'\u001b[0m\u001b[0;34m]\u001b[0m\u001b[0;34m,\u001b[0m \u001b[0mNick\u001b[0m\u001b[0;34m:\u001b[0m \u001b[0;34m[\u001b[0m\u001b[0;36m81\u001b[0m\u001b[0;34m,\u001b[0m \u001b[0;34m'Johnson'\u001b[0m\u001b[0;34m]\u001b[0m\u001b[0;34m,\u001b[0m \u001b[0mOmer\u001b[0m\u001b[0;34m:\u001b[0m \u001b[0;34m[\u001b[0m\u001b[0;36m82\u001b[0m\u001b[0;34m,\u001b[0m \u001b[0;34m'Miller'\u001b[0m\u001b[0;34m]\u001b[0m\u001b[0;34m}\u001b[0m\u001b[0;34m\u001b[0m\u001b[0m\n\u001b[0m",
      "\u001b[0;31mNameError\u001b[0m: name 'Tom' is not defined"
     ]
    }
   ],
   "source": [
    "#1. Create a dictionary where each object contains a list of one float (Age) and one string (Family name) (at least 5 objects)\n",
    "#Example: {Charles: [23.4, \"Darwin\"], Alan: [42.5, \"Turing\"]}\n",
    "friends = {Tom: [78, 'Jones'], Dick: [79, 'Smith'], Harry: [80, 'Taylor'], Nick: [81, 'Johnson'], Omer: [82, 'Miller']}"
   ]
  },
  {
   "cell_type": "code",
   "execution_count": null,
   "metadata": {},
   "outputs": [],
   "source": []
  }
 ],
 "metadata": {
  "kernelspec": {
   "display_name": "Python 3",
   "language": "python",
   "name": "python3"
  },
  "language_info": {
   "codemirror_mode": {
    "name": "ipython",
    "version": 3
   },
   "file_extension": ".py",
   "mimetype": "text/x-python",
   "name": "python",
   "nbconvert_exporter": "python",
   "pygments_lexer": "ipython3",
   "version": "3.6.6"
  }
 },
 "nbformat": 4,
 "nbformat_minor": 2
}
